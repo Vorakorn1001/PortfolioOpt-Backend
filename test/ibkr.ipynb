{
 "cells": [
  {
   "cell_type": "code",
   "execution_count": 1,
   "metadata": {},
   "outputs": [
    {
     "data": {
      "text/plain": [
       "{'portfolioA.csv': ['AAPL', 'AMZN', 'NVDA', 'TSLA'],\n",
       " 'portfolioB.csv': ['AAPL', 'AMZN', 'NVDA']}"
      ]
     },
     "execution_count": 1,
     "metadata": {},
     "output_type": "execute_result"
    }
   ],
   "source": [
    "import pandas as pd\n",
    "import requests\n",
    "import time\n",
    "import os\n",
    "\n",
    "def getStockList(df: pd.DataFrame) -> list:\n",
    "    return [index[0] for index, row in df.iterrows() if index[-1] == \"STK\"]\n",
    "\n",
    "url = \"https://portfolio-opt.vercel.app/api/backend/ibkr/upload\"\n",
    "\n",
    "filePath = \"./portfolio/\"\n",
    "fileList = os.listdir(filePath)\n",
    "fileList\n",
    "\n",
    "data = {\n",
    "    fileList[i]: sorted(getStockList(pd.read_csv(filePath + fileList[i]))) for i in range(len(fileList))\n",
    "}\n",
    "\n",
    "data"
   ]
  },
  {
   "cell_type": "code",
   "execution_count": null,
   "metadata": {},
   "outputs": [
    {
     "name": "stdout",
     "output_type": "stream",
     "text": [
      "Number of Iterations:  50\n",
      "Time:  8.603338241577148\n",
      "Time per iteration:  0.17206676483154296\n",
      "Number of Iterations:  100\n",
      "Time:  18.315114736557007\n",
      "Time per iteration:  0.18315114736557006\n",
      "Number of Iterations:  200\n",
      "Time:  35.337132692337036\n",
      "Time per iteration:  0.17668566346168518\n",
      "Number of Iterations:  500\n",
      "Time:  87.50518536567688\n",
      "Time per iteration:  0.17501037073135375\n"
     ]
    },
    {
     "ename": "",
     "evalue": "",
     "output_type": "error",
     "traceback": [
      "\u001b[1;31mThe Kernel crashed while executing code in the current cell or a previous cell. \n",
      "\u001b[1;31mPlease review the code in the cell(s) to identify a possible cause of the failure. \n",
      "\u001b[1;31mClick <a href='https://aka.ms/vscodeJupyterKernelCrash'>here</a> for more info. \n",
      "\u001b[1;31mView Jupyter <a href='command:jupyter.viewOutput'>log</a> for further details."
     ]
    }
   ],
   "source": [
    "numberOfIterations = [50, 100, 200, 500]\n",
    "\n",
    "for numberOfIteration in numberOfIterations:\n",
    "    print(\"Number of Iterations: \", numberOfIteration)\n",
    "    start = time.time()\n",
    "    for i in range(numberOfIteration):\n",
    "        with open(filePath + fileList[i % len(fileList)], \"rb\") as file:\n",
    "            files = {\n",
    "                \"file\": (fileList[i % len(fileList)], file, \"text/csv\")\n",
    "            }\n",
    "            response = requests.post(url, files=files)\n",
    "            response = response.json()\n",
    "\n",
    "            symbol = sorted([x[\"symbol\"] for x in response[\"portfolio\"]])\n",
    "            if data[fileList[i % len(fileList)]] != symbol:\n",
    "                print(\"Error\")\n",
    "    end = time.time()\n",
    "\n",
    "    print(\"Time: \", end - start)\n",
    "    print(\"Time per iteration: \", (end - start) / numberOfIteration)"
   ]
  }
 ],
 "metadata": {
  "kernelspec": {
   "display_name": ".venv (3.12.7)",
   "language": "python",
   "name": "python3"
  },
  "language_info": {
   "codemirror_mode": {
    "name": "ipython",
    "version": 3
   },
   "file_extension": ".py",
   "mimetype": "text/x-python",
   "name": "python",
   "nbconvert_exporter": "python",
   "pygments_lexer": "ipython3",
   "version": "3.12.7"
  }
 },
 "nbformat": 4,
 "nbformat_minor": 2
}
